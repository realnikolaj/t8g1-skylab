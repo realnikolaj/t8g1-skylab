{
 "cells": [
  {
   "cell_type": "code",
   "execution_count": 2,
   "id": "0746efab-e687-4992-b058-383bcc97f579",
   "metadata": {},
   "outputs": [],
   "source": [
    "import pandas as pd\n",
    "import networkx as nx\n",
    "from networkx.algorithms.community.centrality import girvan_newman\n",
    "import matplotlib.pyplot as plt\n",
    "import netwulf as nw\n",
    "import bz2\n",
    "import pickle\n",
    "import _pickle as cPickle\n",
    "import numpy as np"
   ]
  },
  {
   "cell_type": "code",
   "execution_count": 3,
   "id": "0fc99f87",
   "metadata": {},
   "outputs": [],
   "source": [
    "data = bz2.BZ2File('../data/picl_data_l3.pbz2', 'rb')\n",
    "data = cPickle.load(data)"
   ]
  },
  {
   "cell_type": "markdown",
   "id": "95ca5b18",
   "metadata": {},
   "source": [
    "## Create graph"
   ]
  },
  {
   "cell_type": "code",
   "execution_count": 6,
   "id": "71bd4cfe-8559-47fc-9c2a-6b1e8068c454",
   "metadata": {},
   "outputs": [],
   "source": [
    "df = data\n",
    "def build():\n",
    "    G = nx.empty_graph(0, None)\n",
    "    G.add_nodes_from(df.id)\n",
    "    for node in df[[\"id\",\"edgesUrl\"]].itertuples():\n",
    "        for edge in node[2]:\n",
    "            if not df.id[df.EliUrl.str.endswith(edge.split('dk/')[1])].empty:\n",
    "                nbr = df.id[df.EliUrl.str.endswith(edge.split('dk/')[1])]\n",
    "                G.add_edge(node.id, nbr.to_numpy().item())\n",
    "                # G.add_edges_from(((node, nbr) for _, node, nbrlist in [node for node in df[[\"EliUrl\", \"edgesUrl\"]].itertuples()]))  # for nbr in nbrlist[1]))\n",
    "    return G\n",
    "G = build() "
   ]
  },
  {
   "cell_type": "markdown",
   "id": "f94dfc15-0cf3-499f-9f15-3dd326e42651",
   "metadata": {},
   "source": [
    "## Degree of centality"
   ]
  },
  {
   "cell_type": "code",
   "execution_count": 8,
   "id": "5367832c",
   "metadata": {},
   "outputs": [
    {
     "name": "stdout",
     "output_type": "stream",
     "text": [
      "top 10 nodes in temrs of degree of cenrality\n",
      "Nr 1: Node nr 168178 - Degree centrality: 0.049375\n",
      "Nr 2: Node nr 206304 - Degree centrality: 0.0375\n",
      "Nr 3: Node nr 211184 - Degree centrality: 0.0325\n",
      "Nr 4: Node nr 209082 - Degree centrality: 0.029375000000000002\n",
      "Nr 5: Node nr 224047 - Degree centrality: 0.0275\n",
      "Nr 6: Node nr 221829 - Degree centrality: 0.0275\n",
      "Nr 7: Node nr 134306 - Degree centrality: 0.0275\n",
      "Nr 8: Node nr 209679 - Degree centrality: 0.025625000000000002\n",
      "Nr 9: Node nr 205978 - Degree centrality: 0.0225\n",
      "Nr 10: Node nr 209084 - Degree centrality: 0.020625\n"
     ]
    }
   ],
   "source": [
    "centrality = nx.degree_centrality(G)\n",
    "sortedList = sorted(centrality.items(), key=lambda item: item[1], reverse=True)\n",
    "print(\"top 10 nodes in temrs of degree of cenrality\")\n",
    "for i in range(len(sortedList[:10])):\n",
    "    print(\"Nr {}: Node nr {} - Degree centrality: {}\".format(i + 1, sortedList[i][0], sortedList[i][1]))"
   ]
  },
  {
   "cell_type": "markdown",
   "id": "074bcb71-488a-47ad-a966-dac680284488",
   "metadata": {},
   "source": [
    "### Plot distribution of degree of centrality"
   ]
  },
  {
   "cell_type": "code",
   "execution_count": 12,
   "id": "7d3bfee7-8ebc-4454-a601-b6e72a11d0fe",
   "metadata": {},
   "outputs": [
    {
     "data": {
      "image/png": "[encoded data removed]",
      "text/plain": [
       "<Figure size 432x288 with 1 Axes>"
      ]
     },
     "metadata": {
      "needs_background": "light"
     },
     "output_type": "display_data"
    }
   ],
   "source": [
    "l = list(centrality.items())\n",
    "\n",
    "# plot\n",
    "fig, ax = plt.subplots()\n",
    "y= []\n",
    "\n",
    "for i in l:\n",
    "    y.append(i[1])\n",
    "x = [i for i in range(len(y))]\n",
    "ax.bar(x, y, width=1, edgecolor=\"white\", linewidth=0.2)\n",
    "plt.savefig('centrality_distribution.png')\n",
    "plt.show()"
   ]
  },
  {
   "cell_type": "markdown",
   "id": "383e1cfb-5717-4d36-bbdf-89e63787096d",
   "metadata": {},
   "source": [
    "## Find communites"
   ]
  },
  {
   "cell_type": "code",
   "execution_count": 19,
   "id": "c92989f4",
   "metadata": {},
   "outputs": [],
   "source": [
    "communities = girvan_newman(G, most_valuable_edge=None)\n",
    "node_groups = []\n",
    "for com in next(communities):\n",
    "    node_groups.append(list(com))\n",
    "cmap = plt.get_cmap('viridis')\n",
    "\n",
    "colors = cmap(np.linspace(0, 1, 100))\n",
    "\n",
    "color_index = 0\n",
    "color_map = {}\n",
    "for node in G:\n",
    "    color_index = 0\n",
    "    node_added = False\n",
    "    for node_group in node_groups:\n",
    "        if node in node_group:\n",
    "            color_map[node] = colors[color_index]\n",
    "        color_index += 1\n",
    "        node_added = True\n",
    "    if node_added is False:\n",
    "        color_map[node](colors[color_index])"
   ]
  },
  {
   "cell_type": "code",
   "execution_count": null,
   "id": "cf396dcb",
   "metadata": {},
   "outputs": [],
   "source": [
    "nw.visualize(G)"
   ]
  }
 ],
 "metadata": {
  "jupytext": {
   "formats": "ipynb,md"
  },
  "kernelspec": {
   "display_name": "Python 3 (ipykernel)",
   "language": "python",
   "name": "python3"
  },
  "language_info": {
   "codemirror_mode": {
    "name": "ipython",
    "version": 3
   },
   "file_extension": ".py",
   "mimetype": "text/x-python",
   "name": "python",
   "nbconvert_exporter": "python",
   "pygments_lexer": "ipython3",
   "version": "3.9.2"
  }
 },
 "nbformat": 4,
 "nbformat_minor": 5
}
